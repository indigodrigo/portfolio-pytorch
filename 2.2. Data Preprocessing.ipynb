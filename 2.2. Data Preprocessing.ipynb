{
 "cells": [
  {
   "cell_type": "code",
   "execution_count": 1,
   "id": "0d63b3a1-256a-4699-bc74-477fb6af6fa7",
   "metadata": {},
   "outputs": [],
   "source": [
    "import os #The os module provides a way to interact with the operating system, including file and directory operations.\n",
    "\n",
    "#os.makedirs(os.path.join('..', 'data'), exist_ok=True) #os.path.join define o endereço da pasta 'data'. No caso, '..' sobe um diretório, e 'data'\n",
    "                                                        #define que a pasta será criada lá. Como quero que a pasta data seja criada no mesmo diretório\n",
    "                                                        #que o script, removerei o '..'. Primeiro termo ->local. Segundo termo ->pasta a ser criada no local\n",
    "                                                        #exist_ok=True garante que caso 'data' já exista no diretório, não haverá erro e interrupção\n",
    "                                                        #da execução. A pasta já existente será utilizada.\n",
    "os.makedirs(os.path.join('data'), exist_ok=True)\n",
    "data_file = os.path.join('data', 'house_tiny.csv') #define o caminho até o arquivo 'house_tiny.csv (arquivo ainda não criada) e salva-o em data_file\n",
    "with open(data_file, 'w') as f:              #cria o arquivo no fim do endereço salvo em data_file (house_tiny.csv) e escreve os dados dentro dele.\n",
    "    f.write('''NumRooms,RoofType,Price\n",
    "NA,NA,127500\n",
    "2,NA,106000\n",
    "4,Slate,178100\n",
    "NA,NA,140000''')"
   ]
  },
  {
   "cell_type": "code",
   "execution_count": 2,
   "id": "101c721a-8ebb-45c2-9af1-dfa7a59b93db",
   "metadata": {},
   "outputs": [
    {
     "name": "stdout",
     "output_type": "stream",
     "text": [
      "   NumRooms RoofType   Price\n",
      "0       NaN      NaN  127500\n",
      "1       2.0      NaN  106000\n",
      "2       4.0    Slate  178100\n",
      "3       NaN      NaN  140000\n"
     ]
    }
   ],
   "source": [
    "import pandas as pd\n",
    "\n",
    "data = pd.read_csv(data_file) #acessa o arquivo no endereço data_file, lê, e guarda as informações em data usando o pandas\n",
    "print(data)"
   ]
  },
  {
   "cell_type": "code",
   "execution_count": 3,
   "id": "ab2f5c7b-5a21-4d00-be37-410a1150c320",
   "metadata": {},
   "outputs": [
    {
     "name": "stdout",
     "output_type": "stream",
     "text": [
      "   NumRooms RoofType\n",
      "0       NaN      NaN\n",
      "1       2.0      NaN\n",
      "2       4.0    Slate\n",
      "3       NaN      NaN\n",
      " \n",
      "0    127500\n",
      "1    106000\n",
      "2    178100\n",
      "3    140000\n",
      "Name: Price, dtype: int64\n"
     ]
    }
   ],
   "source": [
    "inputs, targets = data.iloc[:, 0:2], data.iloc[:, 2] #[:]seleciona todas as linhas e [0:2] as colunas de indice 0 até indice 1 (2 não é inclusa)\n",
    "                                                     #[:, 2] a mesma coisa, mas seleciona apenas a coluna de índice 2. Então salva as informações nas respectivas variáveis\n",
    "print(inputs)\n",
    "print(' ')\n",
    "print(targets)"
   ]
  },
  {
   "cell_type": "code",
   "execution_count": 4,
   "id": "f600efb5-2612-45e2-a7d2-e81e15bb149b",
   "metadata": {},
   "outputs": [
    {
     "name": "stdout",
     "output_type": "stream",
     "text": [
      "   NumRooms  RoofType_Slate  RoofType_nan\n",
      "0       NaN           False          True\n",
      "1       2.0           False          True\n",
      "2       4.0            True         False\n",
      "3       NaN           False          True\n"
     ]
    }
   ],
   "source": [
    "inputs = pd.get_dummies(inputs, dummy_na=True) #transforma colunas com dados categóricos em mais colunas, com base na quantidade de categorias.\n",
    "                                               #ou seja, a coluna RoofType será transformada nas colunas RoofType_nan e RoofType_Slate. A coluna NumRooms\n",
    "                                               #não é afetada pois não é categórica, mas numérica. True e False são determinados com base nos valores\n",
    "                                               #originais. dummy_na=True certifica que uma nova coluna para os NaN será criada.\n",
    "print(inputs)"
   ]
  },
  {
   "cell_type": "code",
   "execution_count": 5,
   "id": "98cb7794-8f45-4070-8180-1bda7608d1e5",
   "metadata": {},
   "outputs": [
    {
     "name": "stdout",
     "output_type": "stream",
     "text": [
      "   NumRooms  RoofType_Slate  RoofType_nan\n",
      "0       3.0           False          True\n",
      "1       2.0           False          True\n",
      "2       4.0            True         False\n",
      "3       3.0           False          True\n"
     ]
    }
   ],
   "source": [
    "inputs = inputs.fillna(inputs.mean()) #substitui os NaN das colunas numéricas pelo valor médio da mesma coluna. Mesmo que ainda houvesse\n",
    "                                      #NaN nas clunas \n",
    "print(inputs)"
   ]
  },
  {
   "cell_type": "code",
   "execution_count": 7,
   "id": "3c13cccf-4f12-4cbd-a54e-88992e3aff93",
   "metadata": {},
   "outputs": [
    {
     "data": {
      "text/plain": [
       "(tensor([[3., 0., 1.],\n",
       "         [2., 0., 1.],\n",
       "         [4., 1., 0.],\n",
       "         [3., 0., 1.]], dtype=torch.float64),\n",
       " tensor([127500., 106000., 178100., 140000.], dtype=torch.float64))"
      ]
     },
     "execution_count": 7,
     "metadata": {},
     "output_type": "execute_result"
    }
   ],
   "source": [
    "#since all entries in inputs and targets are now numerical (True and False are basically 1 and 0), they can be loaded into a tensor\n",
    "import torch\n",
    "\n",
    "X = torch.tensor(inputs.to_numpy(dtype=float)) #.to_numpy() converts the Pandas DataFrame inputs into a NumPy array. dtype=float specifies that the data type of the NumPy array should be float.\n",
    "                                               #the conversion to numpy array is necessary because pytorch can't understand pandas dataframe strcuture.\n",
    "y = torch.tensor(targets.to_numpy(dtype=float))\n",
    "X, y"
   ]
  }
 ],
 "metadata": {
  "kernelspec": {
   "display_name": "Python 3 (ipykernel)",
   "language": "python",
   "name": "python3"
  },
  "language_info": {
   "codemirror_mode": {
    "name": "ipython",
    "version": 3
   },
   "file_extension": ".py",
   "mimetype": "text/x-python",
   "name": "python",
   "nbconvert_exporter": "python",
   "pygments_lexer": "ipython3",
   "version": "3.9.20"
  }
 },
 "nbformat": 4,
 "nbformat_minor": 5
}
