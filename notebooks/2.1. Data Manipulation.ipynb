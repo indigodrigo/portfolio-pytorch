{
 "cells": [
  {
   "cell_type": "code",
   "execution_count": 1,
   "id": "32233186-c7fc-47bd-a571-85158e1186b6",
   "metadata": {},
   "outputs": [],
   "source": [
    "import torch"
   ]
  },
  {
   "cell_type": "code",
   "execution_count": 2,
   "id": "16aced05-ff0a-4a8a-8a00-13ccb784fff4",
   "metadata": {},
   "outputs": [
    {
     "data": {
      "text/plain": [
       "tensor([ 0.,  1.,  2.,  3.,  4.,  5.,  6.,  7.,  8.,  9., 10., 11.])"
      ]
     },
     "execution_count": 2,
     "metadata": {},
     "output_type": "execute_result"
    }
   ],
   "source": [
    "x = torch.arange(12, dtype=torch.float32)\n",
    "x"
   ]
  },
  {
   "cell_type": "code",
   "execution_count": 3,
   "id": "7000f118-8e12-4b2a-b942-d1501ac4efb1",
   "metadata": {},
   "outputs": [
    {
     "data": {
      "text/plain": [
       "12"
      ]
     },
     "execution_count": 3,
     "metadata": {},
     "output_type": "execute_result"
    }
   ],
   "source": [
    "x.numel()"
   ]
  },
  {
   "cell_type": "code",
   "execution_count": 4,
   "id": "ffd0a582-171c-49e6-80c2-7ed12407e63b",
   "metadata": {},
   "outputs": [
    {
     "data": {
      "text/plain": [
       "torch.Size([12])"
      ]
     },
     "execution_count": 4,
     "metadata": {},
     "output_type": "execute_result"
    }
   ],
   "source": [
    "x.shape"
   ]
  },
  {
   "cell_type": "code",
   "execution_count": 5,
   "id": "ee422aa2-4432-4b5a-aae6-47f12ad82ddd",
   "metadata": {},
   "outputs": [
    {
     "data": {
      "text/plain": [
       "tensor([[ 0.,  1.,  2.,  3.],\n",
       "        [ 4.,  5.,  6.,  7.],\n",
       "        [ 8.,  9., 10., 11.]])"
      ]
     },
     "execution_count": 5,
     "metadata": {},
     "output_type": "execute_result"
    }
   ],
   "source": [
    "x = x.reshape(3,4) # 3 e 4 são o numero de linhas e colunas\n",
    "x"
   ]
  },
  {
   "cell_type": "code",
   "execution_count": 6,
   "id": "24c745a6-cc9f-4fc5-ab8f-0271c2f4189f",
   "metadata": {},
   "outputs": [
    {
     "data": {
      "text/plain": [
       "tensor(10.)"
      ]
     },
     "execution_count": 6,
     "metadata": {},
     "output_type": "execute_result"
    }
   ],
   "source": [
    "x[2,2] # aqui, os numeros são os índices de cada elemento do tensor nas linhas e colunas, começando do 0."
   ]
  },
  {
   "cell_type": "code",
   "execution_count": 7,
   "id": "1f9aa329-703c-456a-92c0-614426c0398c",
   "metadata": {},
   "outputs": [
    {
     "data": {
      "text/plain": [
       "tensor([[ 0.,  1.,  2.,  3.,  4.,  5.,  6.,  7.,  8.,  9., 10., 11.]])"
      ]
     },
     "execution_count": 7,
     "metadata": {},
     "output_type": "execute_result"
    }
   ],
   "source": [
    "#For a given a tensor of size n and target shape (h,w), we know that w=n/h. \n",
    "#To automatically infer one component of the shape, we can place a -1 for the shape component that should be inferred automatically.\n",
    "#In our case, instead of calling x.reshape(3, 4), we could have equivalently called x.reshape(-1, 4) or x.reshape(3, -1).\n",
    "x = x.reshape(1,-1)\n",
    "x"
   ]
  },
  {
   "cell_type": "code",
   "execution_count": 8,
   "id": "fba5a6a2-bf0f-4dab-bd75-73a82fbcf5d6",
   "metadata": {},
   "outputs": [
    {
     "data": {
      "text/plain": [
       "tensor([[ 0.,  1.,  2.,  3.],\n",
       "        [ 4.,  5.,  6.,  7.],\n",
       "        [ 8.,  9., 10., 11.]])"
      ]
     },
     "execution_count": 8,
     "metadata": {},
     "output_type": "execute_result"
    }
   ],
   "source": [
    "x = x.reshape(-1,4)\n",
    "x"
   ]
  },
  {
   "cell_type": "code",
   "execution_count": 9,
   "id": "b77cc077-db02-42c7-ade0-fa076dd53ba4",
   "metadata": {},
   "outputs": [
    {
     "data": {
      "text/plain": [
       "tensor([[[0., 0., 0., 0.],\n",
       "         [0., 0., 0., 0.],\n",
       "         [0., 0., 0., 0.]],\n",
       "\n",
       "        [[0., 0., 0., 0.],\n",
       "         [0., 0., 0., 0.],\n",
       "         [0., 0., 0., 0.]]])"
      ]
     },
     "execution_count": 9,
     "metadata": {},
     "output_type": "execute_result"
    }
   ],
   "source": [
    "torch.zeros((2,3,4))"
   ]
  },
  {
   "cell_type": "code",
   "execution_count": 10,
   "id": "49b0f046-b762-4a43-b9ce-ccbd9a67c509",
   "metadata": {},
   "outputs": [
    {
     "data": {
      "text/plain": [
       "tensor([[[1., 1., 1., 1.],\n",
       "         [1., 1., 1., 1.],\n",
       "         [1., 1., 1., 1.]],\n",
       "\n",
       "        [[1., 1., 1., 1.],\n",
       "         [1., 1., 1., 1.],\n",
       "         [1., 1., 1., 1.]]])"
      ]
     },
     "execution_count": 10,
     "metadata": {},
     "output_type": "execute_result"
    }
   ],
   "source": [
    "torch.ones((2,3,4))"
   ]
  },
  {
   "cell_type": "code",
   "execution_count": 11,
   "id": "c126a721-749a-405a-9457-bfc9190184d4",
   "metadata": {},
   "outputs": [
    {
     "data": {
      "text/plain": [
       "tensor([[[ 1.4670, -0.1311,  1.2903, -0.4955],\n",
       "         [ 0.6747,  0.2308, -1.7486,  0.3429],\n",
       "         [-0.3970, -0.3124,  0.1325, -2.2894]],\n",
       "\n",
       "        [[-0.4150, -0.8096,  0.8144,  1.2962],\n",
       "         [ 0.2877, -2.6183, -0.7909,  0.2676],\n",
       "         [-1.7453,  1.3470,  1.6039,  0.6788]]])"
      ]
     },
     "execution_count": 11,
     "metadata": {},
     "output_type": "execute_result"
    }
   ],
   "source": [
    "torch.randn(2,3,4) #The following snippet creates a tensor with elements drawn from a standard Gaussian (normal) distribution\n",
    "                   #with mean 0 and standard deviation 1."
   ]
  },
  {
   "cell_type": "code",
   "execution_count": 12,
   "id": "57dbfeb3-217f-4d25-ab3a-65ea2905975b",
   "metadata": {},
   "outputs": [
    {
     "data": {
      "text/plain": [
       "tensor([[2, 1, 4, 3],\n",
       "        [1, 2, 3, 4],\n",
       "        [4, 3, 2, 1]])"
      ]
     },
     "execution_count": 12,
     "metadata": {},
     "output_type": "execute_result"
    }
   ],
   "source": [
    "#Finally, we can construct tensors by supplying the exact values for each element by supplying (possibly nested) Python list(s) containing\n",
    "#numerical literals.\n",
    "torch.tensor([[2, 1, 4, 3], [1, 2, 3, 4], [4, 3, 2, 1]])"
   ]
  },
  {
   "cell_type": "code",
   "execution_count": 13,
   "id": "2f39f5e8-ebb5-4f97-a4bf-77e283fdffa1",
   "metadata": {},
   "outputs": [
    {
     "data": {
      "text/plain": [
       "tensor([[[2, 1, 4, 3],\n",
       "         [1, 2, 3, 4],\n",
       "         [4, 3, 2, 1]],\n",
       "\n",
       "        [[8, 9, 6, 4],\n",
       "         [5, 7, 2, 0],\n",
       "         [9, 9, 4, 6]]])"
      ]
     },
     "execution_count": 13,
     "metadata": {},
     "output_type": "execute_result"
    }
   ],
   "source": [
    "#o primeiro par de colchetes deve englobar todas as n dimensões (o tensor como um todo), o segundo par a matriz (2D), e os seguintes pares\n",
    "#cada linha da matriz. Após a vírgula, repita a partir do segundo par.\n",
    "y = torch.tensor([[[2, 1, 4, 3], [1, 2, 3, 4], [4, 3, 2, 1]] , [[8, 9, 6, 4], [5, 7, 2, 0], [9, 9, 4, 6]]])\n",
    "y"
   ]
  },
  {
   "cell_type": "code",
   "execution_count": 14,
   "id": "25ff963e-4e44-4ae8-bed5-03af36a0a295",
   "metadata": {},
   "outputs": [
    {
     "data": {
      "text/plain": [
       "(tensor([ 8.,  9., 10., 11.]),\n",
       " tensor([[ 4.,  5.,  6.,  7.],\n",
       "         [ 8.,  9., 10., 11.]]))"
      ]
     },
     "execution_count": 14,
     "metadata": {},
     "output_type": "execute_result"
    }
   ],
   "source": [
    "x[-1], x[1:3]"
   ]
  },
  {
   "cell_type": "code",
   "execution_count": 15,
   "id": "19f515eb-538d-476d-92de-824c0405c8c0",
   "metadata": {},
   "outputs": [
    {
     "data": {
      "text/plain": [
       "(tensor([4, 3, 2, 1]),\n",
       " tensor([[8, 9, 6, 4],\n",
       "         [5, 7, 2, 0],\n",
       "         [9, 9, 4, 6]]),\n",
       " tensor([[8, 9, 6, 4],\n",
       "         [5, 7, 2, 0]]),\n",
       " tensor(6))"
      ]
     },
     "execution_count": 15,
     "metadata": {},
     "output_type": "execute_result"
    }
   ],
   "source": [
    "y[0,-1], y[-1], y[-1,0:2], y[-1,-1,-1]"
   ]
  },
  {
   "cell_type": "code",
   "execution_count": 16,
   "id": "d3c1d052-61bf-4e6e-b29e-0d180b22e4d1",
   "metadata": {},
   "outputs": [
    {
     "data": {
      "text/plain": [
       "tensor([[[ 2,  1,  4,  3],\n",
       "         [ 1,  2,  3,  4],\n",
       "         [ 4,  3,  2,  1]],\n",
       "\n",
       "        [[ 8,  9, 87,  4],\n",
       "         [ 5,  7,  2,  0],\n",
       "         [ 9,  9,  4,  6]]])"
      ]
     },
     "execution_count": 16,
     "metadata": {},
     "output_type": "execute_result"
    }
   ],
   "source": [
    "y[-1, 0, 2] = 87\n",
    "y"
   ]
  },
  {
   "cell_type": "code",
   "execution_count": 17,
   "id": "47c0f5a9-1adb-4624-8aaf-5ba1d5c03a0d",
   "metadata": {},
   "outputs": [
    {
     "data": {
      "text/plain": [
       "tensor([[ 0.,  1.,  2.,  3.],\n",
       "        [ 4.,  5.,  6.,  7.],\n",
       "        [ 8.,  9., 10., 11.]])"
      ]
     },
     "execution_count": 17,
     "metadata": {},
     "output_type": "execute_result"
    }
   ],
   "source": [
    "x"
   ]
  },
  {
   "cell_type": "code",
   "execution_count": 18,
   "id": "c1f095e7-08c7-4cb0-9db5-738338a5058d",
   "metadata": {},
   "outputs": [
    {
     "data": {
      "text/plain": [
       "tensor([[ 4.,  5.,  6.,  7.],\n",
       "        [ 8.,  9., 10., 11.]])"
      ]
     },
     "execution_count": 18,
     "metadata": {},
     "output_type": "execute_result"
    }
   ],
   "source": [
    "x[1:] #começa da linha de índice 1 vai até o fim"
   ]
  },
  {
   "cell_type": "code",
   "execution_count": 19,
   "id": "6ff6dcf8-0fbd-43ac-b97a-787d26a7d4c5",
   "metadata": {},
   "outputs": [
    {
     "data": {
      "text/plain": [
       "tensor([[0., 1., 2., 3.],\n",
       "        [4., 5., 6., 7.]])"
      ]
     },
     "execution_count": 19,
     "metadata": {},
     "output_type": "execute_result"
    }
   ],
   "source": [
    "x[:2] #começa do começo e vai até a linha de indice 2 (não inclusa)"
   ]
  },
  {
   "cell_type": "code",
   "execution_count": 20,
   "id": "14d4f39a-6cac-42af-96c4-cc01de2415bf",
   "metadata": {},
   "outputs": [
    {
     "data": {
      "text/plain": [
       "tensor([3., 7.])"
      ]
     },
     "execution_count": 20,
     "metadata": {},
     "output_type": "execute_result"
    }
   ],
   "source": [
    "x[:2, 3] #após a vírgula, o número corresponde à coluna"
   ]
  },
  {
   "cell_type": "code",
   "execution_count": 21,
   "id": "515e9c76-33db-4124-bcda-9b8bcd678a05",
   "metadata": {},
   "outputs": [
    {
     "data": {
      "text/plain": [
       "tensor([[1., 2.],\n",
       "        [5., 6.]])"
      ]
     },
     "execution_count": 21,
     "metadata": {},
     "output_type": "execute_result"
    }
   ],
   "source": [
    "x[:2, 1:3] #do começo até a linha de indice 2 (não inclusa), e coluna de índice 1 até coluna de índice 3 (não inclusa)"
   ]
  },
  {
   "cell_type": "code",
   "execution_count": 22,
   "id": "9e3b3e23-6a65-4624-8396-18c241b6c7b8",
   "metadata": {},
   "outputs": [
    {
     "data": {
      "text/plain": [
       "tensor([[0., 1., 2., 3.],\n",
       "        [4., 5., 6., 7.]])"
      ]
     },
     "execution_count": 22,
     "metadata": {},
     "output_type": "execute_result"
    }
   ],
   "source": [
    "x[:2, :] #do começo até a linha de indice 2 (não inclusa), todas as colunas. O mesmo que apenas x[:2]"
   ]
  },
  {
   "cell_type": "code",
   "execution_count": 23,
   "id": "c5eeb514-4017-40e7-95a9-bc0a9a6a0246",
   "metadata": {},
   "outputs": [
    {
     "data": {
      "text/plain": [
       "tensor([[12., 12., 12., 12.],\n",
       "        [12., 12., 12., 12.],\n",
       "        [ 8.,  9., 10., 11.]])"
      ]
     },
     "execution_count": 23,
     "metadata": {},
     "output_type": "execute_result"
    }
   ],
   "source": [
    "x[:2] = 12 # o mesmo que x[:2, :] = 12\n",
    "x"
   ]
  },
  {
   "cell_type": "code",
   "execution_count": 24,
   "id": "f6fd5556-5dee-4c10-bcfa-8d630adea708",
   "metadata": {},
   "outputs": [
    {
     "data": {
      "text/plain": [
       "tensor([[[ 2,  1,  4,  3],\n",
       "         [ 1,  2,  3,  4],\n",
       "         [ 4,  3,  2,  1]],\n",
       "\n",
       "        [[ 8,  9, 87,  4],\n",
       "         [ 5,  7,  2,  0],\n",
       "         [ 9,  9,  4,  6]]])"
      ]
     },
     "execution_count": 24,
     "metadata": {},
     "output_type": "execute_result"
    }
   ],
   "source": [
    "y"
   ]
  },
  {
   "cell_type": "code",
   "execution_count": 25,
   "id": "55683adc-81f8-4a59-85a9-970bdca96996",
   "metadata": {},
   "outputs": [
    {
     "data": {
      "text/plain": [
       "tensor([[[ 2,  1,  4,  3],\n",
       "         [ 1,  2,  3, 63],\n",
       "         [ 4,  3,  2, 63]],\n",
       "\n",
       "        [[ 8,  9, 87,  4],\n",
       "         [ 5,  7,  2,  0],\n",
       "         [ 9,  9,  4,  6]]])"
      ]
     },
     "execution_count": 25,
     "metadata": {},
     "output_type": "execute_result"
    }
   ],
   "source": [
    "y[0, 1:3, 3:] = 63\n",
    "y"
   ]
  },
  {
   "cell_type": "code",
   "execution_count": 26,
   "id": "022b53c9-9223-4002-8c50-6a3b358afd43",
   "metadata": {},
   "outputs": [
    {
     "data": {
      "text/plain": [
       "tensor([[162754.7969, 162754.7969, 162754.7969, 162754.7969],\n",
       "        [162754.7969, 162754.7969, 162754.7969, 162754.7969],\n",
       "        [  2980.9580,   8103.0840,  22026.4648,  59874.1406]])"
      ]
     },
     "execution_count": 26,
     "metadata": {},
     "output_type": "execute_result"
    }
   ],
   "source": [
    "torch.exp(x)"
   ]
  },
  {
   "cell_type": "code",
   "execution_count": 27,
   "id": "69b60c77-ece0-4c6a-9850-5f4b98dbe469",
   "metadata": {},
   "outputs": [
    {
     "data": {
      "text/plain": [
       "(tensor([ 3.,  4.,  6., 10.]),\n",
       " tensor([-1.,  0.,  2.,  6.]),\n",
       " tensor([ 2.,  4.,  8., 16.]),\n",
       " tensor([0.5000, 1.0000, 2.0000, 4.0000]),\n",
       " tensor([ 1.,  4., 16., 64.]))"
      ]
     },
     "execution_count": 27,
     "metadata": {},
     "output_type": "execute_result"
    }
   ],
   "source": [
    "x = torch.tensor([1.0, 2, 4, 8])\n",
    "y = torch.tensor([2, 2, 2, 2])\n",
    "x + y, x - y, x * y, x / y, x ** y"
   ]
  },
  {
   "cell_type": "code",
   "execution_count": 28,
   "id": "8130df22-e073-424a-95f1-92be0885ebf2",
   "metadata": {},
   "outputs": [
    {
     "data": {
      "text/plain": [
       "(tensor([[ 0.,  1.,  2.,  3.],\n",
       "         [ 4.,  5.,  6.,  7.],\n",
       "         [ 8.,  9., 10., 11.],\n",
       "         [ 2.,  1.,  4.,  3.],\n",
       "         [ 1.,  2.,  3.,  4.],\n",
       "         [ 4.,  3.,  2.,  1.]]),\n",
       " tensor([[ 0.,  1.,  2.,  3.,  2.,  1.,  4.,  3.],\n",
       "         [ 4.,  5.,  6.,  7.,  1.,  2.,  3.,  4.],\n",
       "         [ 8.,  9., 10., 11.,  4.,  3.,  2.,  1.]]))"
      ]
     },
     "execution_count": 28,
     "metadata": {},
     "output_type": "execute_result"
    }
   ],
   "source": [
    "X = torch.arange(12, dtype=torch.float32).reshape((3,-1))\n",
    "Y = torch.tensor([[2.0, 1, 4, 3], [1, 2, 3, 4], [4, 3, 2, 1]])\n",
    "torch.cat((X, Y), dim=0), torch.cat((X, Y), dim=1)"
   ]
  },
  {
   "cell_type": "code",
   "execution_count": 29,
   "id": "1057e674-4b99-4e3a-b362-d6da0fc297c7",
   "metadata": {},
   "outputs": [
    {
     "data": {
      "text/plain": [
       "tensor([[False,  True, False,  True],\n",
       "        [False, False, False, False],\n",
       "        [False, False, False, False]])"
      ]
     },
     "execution_count": 29,
     "metadata": {},
     "output_type": "execute_result"
    }
   ],
   "source": [
    "X==Y"
   ]
  },
  {
   "cell_type": "code",
   "execution_count": 30,
   "id": "da67b5e5-2516-4e55-a29b-a4c1af2e147e",
   "metadata": {},
   "outputs": [
    {
     "data": {
      "text/plain": [
       "tensor([1., 2., 4., 8.])"
      ]
     },
     "execution_count": 30,
     "metadata": {},
     "output_type": "execute_result"
    }
   ],
   "source": [
    "x"
   ]
  },
  {
   "cell_type": "code",
   "execution_count": 31,
   "id": "a28b5d2e-ead9-490f-9b42-17fc279cf25f",
   "metadata": {},
   "outputs": [
    {
     "data": {
      "text/plain": [
       "tensor(15.)"
      ]
     },
     "execution_count": 31,
     "metadata": {},
     "output_type": "execute_result"
    }
   ],
   "source": [
    "x.sum()"
   ]
  },
  {
   "cell_type": "code",
   "execution_count": 32,
   "id": "eaf2104d-88fe-4dad-8987-0c4620f0c72c",
   "metadata": {},
   "outputs": [
    {
     "data": {
      "text/plain": [
       "(tensor([[1],\n",
       "         [2],\n",
       "         [4],\n",
       "         [8]]),\n",
       " tensor([[0, 1, 2]]))"
      ]
     },
     "execution_count": 32,
     "metadata": {},
     "output_type": "execute_result"
    }
   ],
   "source": [
    "a = torch.tensor([1, 2, 4, 8]).reshape(4, 1)\n",
    "b = torch.arange(3).reshape((1, 3))\n",
    "a, b"
   ]
  },
  {
   "cell_type": "code",
   "execution_count": 33,
   "id": "e8c85a1c-bf55-48c2-b0dd-6fab5e40edc7",
   "metadata": {},
   "outputs": [
    {
     "data": {
      "text/plain": [
       "tensor([[ 1,  2,  3],\n",
       "        [ 2,  3,  4],\n",
       "        [ 4,  5,  6],\n",
       "        [ 8,  9, 10]])"
      ]
     },
     "execution_count": 33,
     "metadata": {},
     "output_type": "execute_result"
    }
   ],
   "source": [
    "a + b"
   ]
  },
  {
   "cell_type": "code",
   "execution_count": 34,
   "id": "65ad268c-54b3-41e0-a78e-4e0259baa2f7",
   "metadata": {},
   "outputs": [
    {
     "data": {
      "text/plain": [
       "2626714499248"
      ]
     },
     "execution_count": 34,
     "metadata": {},
     "output_type": "execute_result"
    }
   ],
   "source": [
    "id(Y)"
   ]
  },
  {
   "cell_type": "code",
   "execution_count": 35,
   "id": "717c2dad-44f5-4d07-8390-03ed6617bd2c",
   "metadata": {},
   "outputs": [
    {
     "data": {
      "text/plain": [
       "False"
      ]
     },
     "execution_count": 35,
     "metadata": {},
     "output_type": "execute_result"
    }
   ],
   "source": [
    "before = id(Y)\n",
    "Y = Y + X\n",
    "id(Y) == before"
   ]
  },
  {
   "cell_type": "code",
   "execution_count": 36,
   "id": "31cf44cd-ad75-4a78-97ed-78985fb481ad",
   "metadata": {},
   "outputs": [
    {
     "data": {
      "text/plain": [
       "tensor([[1],\n",
       "        [2],\n",
       "        [4],\n",
       "        [8]])"
      ]
     },
     "execution_count": 36,
     "metadata": {},
     "output_type": "execute_result"
    }
   ],
   "source": [
    "a"
   ]
  },
  {
   "cell_type": "code",
   "execution_count": 37,
   "id": "abaf6f12-1f36-4944-ac05-202dd2610a64",
   "metadata": {},
   "outputs": [
    {
     "data": {
      "text/plain": [
       "tensor([[0, 1, 2]])"
      ]
     },
     "execution_count": 37,
     "metadata": {},
     "output_type": "execute_result"
    }
   ],
   "source": [
    "b"
   ]
  },
  {
   "cell_type": "code",
   "execution_count": 38,
   "id": "ba11db1e-0e31-46b4-907e-0640c8204162",
   "metadata": {},
   "outputs": [
    {
     "data": {
      "text/plain": [
       "tensor([[0, 0, 0],\n",
       "        [0, 0, 0],\n",
       "        [0, 0, 0],\n",
       "        [0, 0, 0]])"
      ]
     },
     "execution_count": 38,
     "metadata": {},
     "output_type": "execute_result"
    }
   ],
   "source": [
    "Z = torch.zeros_like(a+b) # o termo entre parenteses deve ter o formato que Z assumirá após receber os valores definitivos\n",
    "Z"
   ]
  },
  {
   "cell_type": "code",
   "execution_count": 39,
   "id": "c4b9f140-ee05-4d8b-8d33-4764a318b583",
   "metadata": {},
   "outputs": [
    {
     "data": {
      "text/plain": [
       "tensor([[0., 0., 0., 0.],\n",
       "        [0., 0., 0., 0.],\n",
       "        [0., 0., 0., 0.]])"
      ]
     },
     "execution_count": 39,
     "metadata": {},
     "output_type": "execute_result"
    }
   ],
   "source": [
    "Z = torch.zeros_like(X) # neste caso, X e Y têm o mesmo formato, então basta apenas colocar X (ou Y) dentro do parênteses. apenas a ou b não serviria,\n",
    "                        #pois um deles é (4, 1), e o outro (1,3). Deveria usar a soma, como na célula acima, cujo formato é (4,3)\n",
    "Z"
   ]
  },
  {
   "cell_type": "code",
   "execution_count": 40,
   "id": "fa20fb3c-07a0-4d2d-a53b-b7dab470a660",
   "metadata": {},
   "outputs": [
    {
     "name": "stdout",
     "output_type": "stream",
     "text": [
      "id(Z): 2626707978576\n"
     ]
    }
   ],
   "source": [
    "print('id(Z):', id(Z))"
   ]
  },
  {
   "cell_type": "code",
   "execution_count": 41,
   "id": "90ae2440-1e08-4594-b72e-f0ca50c8b864",
   "metadata": {},
   "outputs": [],
   "source": [
    "Z[:] = X + Y  #fazendo assim , o resultado e X + Y é atribuído à variável Z com mesmo endereço que a anterior, pois você simplesmente\n",
    "              # substituiu os zeros com os números atuais. Não usar o [:] faz com que Z seja alocada a um novo espaço na memória (usa mais memória)."
   ]
  },
  {
   "cell_type": "code",
   "execution_count": 42,
   "id": "51764acb-b9db-4407-a333-c674a7d0f482",
   "metadata": {},
   "outputs": [
    {
     "data": {
      "text/plain": [
       "tensor([[ 2.,  3.,  8.,  9.],\n",
       "        [ 9., 12., 15., 18.],\n",
       "        [20., 21., 22., 23.]])"
      ]
     },
     "execution_count": 42,
     "metadata": {},
     "output_type": "execute_result"
    }
   ],
   "source": [
    "Z"
   ]
  },
  {
   "cell_type": "code",
   "execution_count": 43,
   "id": "50ebce93-a04b-47a4-9ce7-b5d3bc07ad31",
   "metadata": {},
   "outputs": [
    {
     "name": "stdout",
     "output_type": "stream",
     "text": [
      "id(Z): 2626707978576\n"
     ]
    }
   ],
   "source": [
    "print('id(Z):', id(Z))"
   ]
  },
  {
   "cell_type": "code",
   "execution_count": 44,
   "id": "f83abd2a-dd74-4c87-ae0c-4353f47efb9d",
   "metadata": {},
   "outputs": [
    {
     "data": {
      "text/plain": [
       "True"
      ]
     },
     "execution_count": 44,
     "metadata": {},
     "output_type": "execute_result"
    }
   ],
   "source": [
    "#X += Y também cumpre o mesmo objetivo de preservar a ID.\n",
    "before = id(X)\n",
    "X += Y\n",
    "id(X) == before"
   ]
  },
  {
   "cell_type": "code",
   "execution_count": 45,
   "id": "99828a5a-ee5a-4aa9-868a-a1ab5f8a230d",
   "metadata": {},
   "outputs": [
    {
     "data": {
      "text/plain": [
       "tensor([[ 2.,  3.,  8.,  9.],\n",
       "        [ 9., 12., 15., 18.],\n",
       "        [20., 21., 22., 23.]])"
      ]
     },
     "execution_count": 45,
     "metadata": {},
     "output_type": "execute_result"
    }
   ],
   "source": [
    "X"
   ]
  },
  {
   "cell_type": "code",
   "execution_count": 46,
   "id": "5b5aa2b6-c5a6-4150-ac4a-b3bca74ed337",
   "metadata": {},
   "outputs": [
    {
     "data": {
      "text/plain": [
       "array([[ 2.,  3.,  8.,  9.],\n",
       "       [ 9., 12., 15., 18.],\n",
       "       [20., 21., 22., 23.]], dtype=float32)"
      ]
     },
     "execution_count": 46,
     "metadata": {},
     "output_type": "execute_result"
    }
   ],
   "source": [
    "#Converting to a NumPy tensor (ndarray), or vice versa, is easy. The torch tensor and NumPy array will share their underlying memory, \n",
    "#and changing one through an in-place operation will also change the other.\n",
    "A = X.numpy()\n",
    "A"
   ]
  },
  {
   "cell_type": "code",
   "execution_count": 47,
   "id": "016e41cf-5a48-4cf6-aa8d-3f88b1b81853",
   "metadata": {},
   "outputs": [
    {
     "data": {
      "text/plain": [
       "tensor([[ 2.,  3.,  8.,  9.],\n",
       "        [ 9., 12., 15., 18.],\n",
       "        [20., 21., 22., 23.]])"
      ]
     },
     "execution_count": 47,
     "metadata": {},
     "output_type": "execute_result"
    }
   ],
   "source": [
    "B = torch.from_numpy(A)\n",
    "B"
   ]
  },
  {
   "cell_type": "code",
   "execution_count": 48,
   "id": "04e96084-7d4a-4246-a1c2-f736eee6914a",
   "metadata": {},
   "outputs": [
    {
     "data": {
      "text/plain": [
       "(numpy.ndarray, torch.Tensor)"
      ]
     },
     "execution_count": 48,
     "metadata": {},
     "output_type": "execute_result"
    }
   ],
   "source": [
    "type(A), type(B)"
   ]
  },
  {
   "cell_type": "code",
   "execution_count": 49,
   "id": "4cace976-972b-40fb-a1b2-c31a50ceafc6",
   "metadata": {},
   "outputs": [
    {
     "data": {
      "text/plain": [
       "(tensor([3.5000]), 3.5, 3.5, 3)"
      ]
     },
     "execution_count": 49,
     "metadata": {},
     "output_type": "execute_result"
    }
   ],
   "source": [
    "a = torch.tensor([3.5])\n",
    "a, a.item(), float(a), int(a) #converter um tensor de um único elemento a um escalar python"
   ]
  },
  {
   "cell_type": "code",
   "execution_count": 50,
   "id": "32bbe4e5-c600-4966-ab92-466ed8e5baf6",
   "metadata": {},
   "outputs": [
    {
     "data": {
      "text/plain": [
       "tensor([[ 2.,  3.,  8.,  9.],\n",
       "        [ 9., 12., 15., 18.],\n",
       "        [20., 21., 22., 23.]])"
      ]
     },
     "execution_count": 50,
     "metadata": {},
     "output_type": "execute_result"
    }
   ],
   "source": [
    "X"
   ]
  },
  {
   "cell_type": "code",
   "execution_count": 51,
   "id": "6b6fa6e1-8f1a-4a55-a0f9-178172fc75ec",
   "metadata": {},
   "outputs": [
    {
     "data": {
      "text/plain": [
       "tensor([[ 2.,  2.,  6.,  6.],\n",
       "        [ 5.,  7.,  9., 11.],\n",
       "        [12., 12., 12., 12.]])"
      ]
     },
     "execution_count": 51,
     "metadata": {},
     "output_type": "execute_result"
    }
   ],
   "source": [
    "Y"
   ]
  },
  {
   "cell_type": "code",
   "execution_count": 52,
   "id": "6068083d-daaa-4422-921b-7ceb75b90975",
   "metadata": {},
   "outputs": [
    {
     "data": {
      "text/plain": [
       "tensor([[False,  True,  True,  True],\n",
       "        [ True,  True,  True,  True],\n",
       "        [ True,  True,  True,  True]])"
      ]
     },
     "execution_count": 52,
     "metadata": {},
     "output_type": "execute_result"
    }
   ],
   "source": [
    "X > Y"
   ]
  },
  {
   "cell_type": "code",
   "execution_count": 53,
   "id": "6d1e9494-a7d2-4ced-a9fd-25430c3e2160",
   "metadata": {},
   "outputs": [
    {
     "name": "stdout",
     "output_type": "stream",
     "text": [
      "tensor([[[0],\n",
      "         [1]],\n",
      "\n",
      "        [[2],\n",
      "         [3]],\n",
      "\n",
      "        [[4],\n",
      "         [5]],\n",
      "\n",
      "        [[6],\n",
      "         [7]]]), \n",
      "\n",
      "\n",
      "tensor([[[ 0,  1,  2,  3],\n",
      "         [ 4,  5,  6,  7]],\n",
      "\n",
      "        [[ 8,  9, 10, 11],\n",
      "         [12, 13, 14, 15]],\n",
      "\n",
      "        [[16, 17, 18, 19],\n",
      "         [20, 21, 22, 23]],\n",
      "\n",
      "        [[24, 25, 26, 27],\n",
      "         [28, 29, 30, 31]]]), \n",
      "\n",
      "\n",
      "tensor([[[ 0,  1,  2,  3],\n",
      "         [ 5,  6,  7,  8]],\n",
      "\n",
      "        [[10, 11, 12, 13],\n",
      "         [15, 16, 17, 18]],\n",
      "\n",
      "        [[20, 21, 22, 23],\n",
      "         [25, 26, 27, 28]],\n",
      "\n",
      "        [[30, 31, 32, 33],\n",
      "         [35, 36, 37, 38]]])\n"
     ]
    }
   ],
   "source": [
    "X = torch.arange(8).reshape(4, 2, 1)\n",
    "Y = torch.arange(32).reshape(4, 2 ,4)\n",
    "\n",
    "print(f\"{X}, \\n\\n\\n{Y}, \\n\\n\\n{X + Y}\")"
   ]
  },
  {
   "cell_type": "code",
   "execution_count": 54,
   "id": "b57adc63-65b5-4fe2-b381-356e970c5fad",
   "metadata": {},
   "outputs": [
    {
     "name": "stdout",
     "output_type": "stream",
     "text": [
      "tensor([[[0],\n",
      "         [1]],\n",
      "\n",
      "        [[2],\n",
      "         [3]],\n",
      "\n",
      "        [[4],\n",
      "         [5]],\n",
      "\n",
      "        [[6],\n",
      "         [7]]]), \n",
      "\n",
      "\n",
      "tensor([[[0, 1, 2, 3, 4, 5, 6, 7]]]), \n",
      "\n",
      "\n",
      "tensor([[[ 0,  1,  2,  3,  4,  5,  6,  7],\n",
      "         [ 1,  2,  3,  4,  5,  6,  7,  8]],\n",
      "\n",
      "        [[ 2,  3,  4,  5,  6,  7,  8,  9],\n",
      "         [ 3,  4,  5,  6,  7,  8,  9, 10]],\n",
      "\n",
      "        [[ 4,  5,  6,  7,  8,  9, 10, 11],\n",
      "         [ 5,  6,  7,  8,  9, 10, 11, 12]],\n",
      "\n",
      "        [[ 6,  7,  8,  9, 10, 11, 12, 13],\n",
      "         [ 7,  8,  9, 10, 11, 12, 13, 14]]])\n"
     ]
    }
   ],
   "source": [
    "X = torch.arange(8).reshape(4, 2, 1)\n",
    "Y = torch.arange(8).reshape(1, 1 ,8)\n",
    "\n",
    "print(f\"{X}, \\n\\n\\n{Y}, \\n\\n\\n{X + Y}\")"
   ]
  },
  {
   "cell_type": "code",
   "execution_count": 55,
   "id": "edef45b7-1ce4-43c7-a666-58aa5e700ec9",
   "metadata": {},
   "outputs": [
    {
     "name": "stdout",
     "output_type": "stream",
     "text": [
      "tensor([[[0],\n",
      "         [1]],\n",
      "\n",
      "        [[2],\n",
      "         [3]],\n",
      "\n",
      "        [[4],\n",
      "         [5]],\n",
      "\n",
      "        [[6],\n",
      "         [7]]]), \n",
      "\n",
      "\n",
      "tensor([[[0, 1, 2, 3],\n",
      "         [4, 5, 6, 7]]]), \n",
      "\n",
      "\n",
      "tensor([[[ 0,  1,  2,  3],\n",
      "         [ 5,  6,  7,  8]],\n",
      "\n",
      "        [[ 2,  3,  4,  5],\n",
      "         [ 7,  8,  9, 10]],\n",
      "\n",
      "        [[ 4,  5,  6,  7],\n",
      "         [ 9, 10, 11, 12]],\n",
      "\n",
      "        [[ 6,  7,  8,  9],\n",
      "         [11, 12, 13, 14]]])\n"
     ]
    }
   ],
   "source": [
    "X = torch.arange(8).reshape(4, 2, 1)\n",
    "Y = torch.arange(8).reshape(1, 2 ,4)\n",
    "\n",
    "print(f\"{X}, \\n\\n\\n{Y}, \\n\\n\\n{X + Y}\")"
   ]
  }
 ],
 "metadata": {
  "kernelspec": {
   "display_name": "Python 3 (ipykernel)",
   "language": "python",
   "name": "python3"
  },
  "language_info": {
   "codemirror_mode": {
    "name": "ipython",
    "version": 3
   },
   "file_extension": ".py",
   "mimetype": "text/x-python",
   "name": "python",
   "nbconvert_exporter": "python",
   "pygments_lexer": "ipython3",
   "version": "3.9.20"
  }
 },
 "nbformat": 4,
 "nbformat_minor": 5
}
